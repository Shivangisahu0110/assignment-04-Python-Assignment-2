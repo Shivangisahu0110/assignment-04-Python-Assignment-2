{
 "cells": [
  {
   "cell_type": "markdown",
   "id": "ab67dd64-ecfd-4cb3-9c4a-129e5973f415",
   "metadata": {},
   "source": [
    "Q1. Create a python program to sort the given list of tuples based on integer value using a\n",
    "lambda function.\n",
    "[('Sachin Tendulkar', 34357), ('Ricky Ponting', 27483), ('Jack Kallis', 25534), ('Virat Kohli', 24936)]"
   ]
  },
  {
   "cell_type": "code",
   "execution_count": 3,
   "id": "c17240a9-7706-4e39-a12c-3486bf744f97",
   "metadata": {},
   "outputs": [
    {
     "name": "stdout",
     "output_type": "stream",
     "text": [
      "[('Virat Kohli', 24936), ('Jack Kallis', 25534), ('Ricky Ponting', 27483), ('Sachin Tendulkar', 34357)]\n"
     ]
    }
   ],
   "source": [
    "list1 = [('Sachin Tendulkar', 34357), ('Ricky Ponting', 27483), ('Jack Kallis', 25534), ('Virat Kohli', 24936)]\n",
    "list1.sort(key= lambda x:x[1]) #1 for true in descending order\n",
    "print (list1)"
   ]
  },
  {
   "cell_type": "markdown",
   "id": "7e48e09b-d425-4848-823e-5a2588c5a1a4",
   "metadata": {},
   "source": [
    "\n",
    "Q2. Write a Python Program to find the squares of all the numbers in the given list of integers using\n",
    "lambda and map functions.\n",
    "[1, 2, 3, 4, 5, 6, 7, 8, 9, 10]"
   ]
  },
  {
   "cell_type": "code",
   "execution_count": 4,
   "id": "10b2407a-9f85-48be-a00b-a555219db27c",
   "metadata": {},
   "outputs": [
    {
     "data": {
      "text/plain": [
       "[1, 4, 9, 16, 25, 36, 49, 64, 81, 100]"
      ]
     },
     "execution_count": 4,
     "metadata": {},
     "output_type": "execute_result"
    }
   ],
   "source": [
    "square_num = [1, 2, 3, 4, 5, 6, 7, 8, 9, 10]\n",
    "list(map(lambda sqt:sqt**2 , square_num))"
   ]
  },
  {
   "cell_type": "markdown",
   "id": "a68932d5-7f0f-4a43-965c-4b8754d7a993",
   "metadata": {},
   "source": [
    "Q3. Write a python program to convert the given list of integers into a tuple of strings. Use map and\n",
    "lambda functions\n",
    "Given String: [1, 2, 3, 4, 5, 6, 7, 8, 9, 10]\n",
    "Expected output: ('1', '2', '3', '4', '5', '6', '7', '8', '9', '10')"
   ]
  },
  {
   "cell_type": "code",
   "execution_count": 7,
   "id": "5732db4b-d238-4942-82e6-1cb9fa2870ea",
   "metadata": {},
   "outputs": [
    {
     "name": "stdout",
     "output_type": "stream",
     "text": [
      "Given string :\n",
      "[1, 2, 3, 4, 5, 6, 7, 8, 9, 10]\n",
      "Expected output :\n",
      "('1', '2', '3', '4', '5', '6', '7', '8', '9', '10')\n"
     ]
    }
   ],
   "source": [
    "String= [1, 2, 3, 4, 5, 6, 7, 8, 9, 10]\n",
    "print(\"Given string :\")\n",
    "print (String)\n",
    "\n",
    "print(\"Expected output :\")\n",
    "print (tuple(map(lambda x: str(x) ,String)))\n"
   ]
  },
  {
   "cell_type": "markdown",
   "id": "bd0ff302-4ee2-4c63-abc4-71c5fa0d3338",
   "metadata": {},
   "source": [
    "Q4. Write a python program using reduce function to compute the product of a list containing numbers\n",
    "from 1 to 25."
   ]
  },
  {
   "cell_type": "code",
   "execution_count": 15,
   "id": "ecfbbbb5-ef68-415a-94d0-a100febb71ee",
   "metadata": {},
   "outputs": [
    {
     "data": {
      "text/plain": [
       "325"
      ]
     },
     "execution_count": 15,
     "metadata": {},
     "output_type": "execute_result"
    }
   ],
   "source": [
    "list_sum =[1,2,3,4,5,6,7,8,9,10,11,12,13,14,15,16,17,18,19,20,21,22,23,24,25]\n",
    "\n",
    "from functools import reduce\n",
    "reduce(lambda x,y: x+y ,list_sum)"
   ]
  },
  {
   "cell_type": "markdown",
   "id": "92038efd-ed7b-4fef-b07b-016fa937ec6e",
   "metadata": {},
   "source": [
    "###### Q5. Write a python program to filter the numbers in a given list that are divisible by 2 and 3 using the\n",
    "filter function.\n",
    "[2, 3, 6, 9, 27, 60, 90, 120, 55, 46]"
   ]
  },
  {
   "cell_type": "code",
   "execution_count": 12,
   "id": "9cb4e375-7df7-4a6b-8e31-2037920d6603",
   "metadata": {},
   "outputs": [
    {
     "data": {
      "text/plain": [
       "[6, 60, 90, 120]"
      ]
     },
     "execution_count": 12,
     "metadata": {},
     "output_type": "execute_result"
    }
   ],
   "source": [
    "divisible_num = [2, 3, 6, 9, 27, 60, 90, 120, 55, 46]\n",
    "list(filter(lambda x: x%2 == 0 and x%3 == 0 ,divisible_num))"
   ]
  },
  {
   "cell_type": "markdown",
   "id": "079795f1-df03-45b7-a096-4fc9f6f38f87",
   "metadata": {},
   "source": [
    "Q6. Write a python program to find palindromes in the given list of strings using lambda and filter\n",
    "function.\n",
    "['python', 'php', 'aba', 'radar', 'level']"
   ]
  },
  {
   "cell_type": "code",
   "execution_count": 8,
   "id": "ad362117-e991-4bf8-b1e9-6a35f621f117",
   "metadata": {},
   "outputs": [
    {
     "data": {
      "text/plain": [
       "['php', 'aba', 'radar', 'level']"
      ]
     },
     "execution_count": 8,
     "metadata": {},
     "output_type": "execute_result"
    }
   ],
   "source": [
    "plndrm_str = ['python', 'php', 'aba', 'radar', 'level']\n",
    "list(filter(lambda z: z== \"\".join(reversed(z)),plndrm_str))"
   ]
  },
  {
   "cell_type": "code",
   "execution_count": null,
   "id": "ef82cf72-0d1f-44f6-9c3d-94b3dd86065e",
   "metadata": {},
   "outputs": [],
   "source": []
  }
 ],
 "metadata": {
  "kernelspec": {
   "display_name": "Python 3 (ipykernel)",
   "language": "python",
   "name": "python3"
  },
  "language_info": {
   "codemirror_mode": {
    "name": "ipython",
    "version": 3
   },
   "file_extension": ".py",
   "mimetype": "text/x-python",
   "name": "python",
   "nbconvert_exporter": "python",
   "pygments_lexer": "ipython3",
   "version": "3.10.8"
  }
 },
 "nbformat": 4,
 "nbformat_minor": 5
}
